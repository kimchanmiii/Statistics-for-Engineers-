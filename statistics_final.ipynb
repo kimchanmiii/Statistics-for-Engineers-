{
  "nbformat": 4,
  "nbformat_minor": 0,
  "metadata": {
    "colab": {
      "name": "응용통계_기말.ipynb",
      "provenance": [],
      "collapsed_sections": [],
      "toc_visible": true
    },
    "kernelspec": {
      "name": "python3",
      "display_name": "Python 3"
    }
  },
  "cells": [
    {
      "cell_type": "code",
      "metadata": {
        "id": "Xs0DPpVIZs7K"
      },
      "source": [
        "import numpy as np\n",
        "import pandas as pd\n",
        "from scipy import stats\n",
        "\n",
        "%precision 3\n",
        "np.random.seed(1111)"
      ],
      "execution_count": 1,
      "outputs": []
    },
    {
      "cell_type": "markdown",
      "metadata": {
        "id": "g19PsKTgZn6_"
      },
      "source": [
        "# 기말고사 (1번과제 - 모평균의 검정)\n",
        "- 통계적 가설 검정\n",
        "- 주어진 파일을 읽고 무게에 해당되는 데이터를 읽는다."
      ]
    },
    {
      "cell_type": "code",
      "metadata": {
        "id": "_MZLSDG8Xz2f",
        "outputId": "31072edd-c2be-4e00-8172-d79b02e4121f",
        "colab": {
          "base_uri": "https://localhost:8080/"
        }
      },
      "source": [
        "df = pd.read_csv('potato.csv')\n",
        "data = np.array(df['무게'])\n",
        "print(data)"
      ],
      "execution_count": 8,
      "outputs": [
        {
          "output_type": "stream",
          "text": [
            "[122.02 131.73 130.6  131.82 132.05 126.12 124.43 132.89 122.79 129.95\n",
            " 126.14 134.45 127.64 125.68]\n"
          ],
          "name": "stdout"
        }
      ]
    },
    {
      "cell_type": "markdown",
      "metadata": {
        "id": "wzFvDbs_coir"
      },
      "source": [
        "# 모분산을 알고 있을 때의 모평균을 검정하기 위한 함수를 완성하시오\n",
        "- 단측검정(pmean_one_side_test)의 함수를 작성하시오\n",
        "- 양측검정(pmean_two_side_test)의 함수를 작성하시오\n",
        "--> 함수의 출력은 \"귀무가설을 채택한다\" 또는 \"귀무가설을 기각한다\"로 출력하시오"
      ]
    },
    {
      "cell_type": "code",
      "metadata": {
        "id": "hJyYVQ78c0CI"
      },
      "source": [
        "#모분산을 알고 있을 때 모평균의 단측 검정 함수 작성하시오\n",
        "def pmean_one_side_test(sample, p_mean, p_var, alpha, isBigger): \n",
        "# sample: 모평균을 추정하기 위한 관측 샘플 데이터\n",
        "# p_mean: 샘플 데이터의 모평균\n",
        "# p_var: 모분산\n",
        "# alpha: 유의수준\n",
        "# isBigger: 모평균이 크면 1, 작으면 0을 입력한다 \n",
        "# 출력값은 \"귀무가설을 채택한다\" 또는 \"귀무가설을 기각한다\"로 출력하시오\n",
        "\n",
        "  rv = stats.norm()\n",
        "\n",
        "  s_mean = np.mean(sample) #표본평균 \n",
        "  numOfSample = len(sample)\n",
        "\n",
        "  Z = (s_mean - p_mean) / np.sqrt(p_var / numOfSample) #검정통계량\n",
        "  alpha = alpha*0.01\n",
        "\n",
        "  if isBigger == 0:\n",
        "    p_val = rv.isf(1-alpha)\n",
        "    if Z < p_val:\n",
        "      answer = \"귀무가설을 기각한다\"\n",
        "    else:\n",
        "      answer = \"귀무가설을 채택한다\"\n",
        "\n",
        "  else:\n",
        "    p_val = rv.isf(alpha)\n",
        "    if Z < p_val:\n",
        "      answer = \"귀무가설을 채택한다\"\n",
        "    else:\n",
        "      answer = \"귀무가설을 기각한다\"\n",
        "\n",
        "  print(\"평균:\", s_mean, \"표본추출:\", numOfSample, \"검정통계량:\", Z, \"기각역:\", p_val)\n",
        "\n",
        "  return answer"
      ],
      "execution_count": 64,
      "outputs": []
    },
    {
      "cell_type": "code",
      "metadata": {
        "id": "SZDM2kp5g5u6"
      },
      "source": [
        "#모분산을 알고 있을 때 모평균의 양측 검정 함수 작성하시오\n",
        "def pmean_pmean_two_side_test(sample, p_mean, p_var, alpha):\n",
        "# sample: 모평균을 추정하기 위한 관측 샘플 데이터\n",
        "# p_mean: 샘플 데이터의 모평균\n",
        "# p_var: 모분산\n",
        "# alpha: 유의수준\n",
        "# 출력값은 \"귀무가설을 채택한다\" 또는 \"귀무가설을 기각한다\"로 출력하시오\n",
        "\n",
        "  rv = stats.norm()\n",
        "\n",
        "  s_mean = np.mean(sample) #표본평균 \n",
        "  numOfSample = len(sample)\n",
        "\n",
        "  Z = (s_mean - p_mean) / np.sqrt(p_var / numOfSample) #검정통계량\n",
        "  alpha = alpha*0.01\n",
        "\n",
        "  lcl = rv.isf(1-alpha*0.5)\n",
        "  ucl = rv.isf(alpha*0.5)\n",
        "\n",
        "  print(\"검정통계량:\", Z, \"lcl:\", lcl, \"ucl:\", ucl)\n",
        "\n",
        "  if Z < lcl:\n",
        "    answer = \"귀무가설을 기각한다\"\n",
        "  elif Z > ucl:\n",
        "    answer = \"귀무가설을 기각한다\"\n",
        "  else:\n",
        "    answer = \"귀무가설을 채택한다\"\n",
        "    \n",
        "  return answer"
      ],
      "execution_count": 95,
      "outputs": []
    },
    {
      "cell_type": "markdown",
      "metadata": {
        "id": "PZPuxm44fQrC"
      },
      "source": [
        "#위의 함수를 이용하여 다음 문제에 대한 결과를 출력하시오\n",
        "- 주어진 'potato.csv' 파일 데이터의 모분산이 9라고 알려져 있음\n",
        "- 유의수준 5%에 대하여 모평균이 130보다 크다는 것에 대하의 위의 작성한 함수를 이용하여 검정하시오"
      ]
    },
    {
      "cell_type": "code",
      "metadata": {
        "id": "uPvOwz3thPlC",
        "outputId": "7fd113ab-6a8a-4a00-9ed6-d7d67885ca79",
        "colab": {
          "base_uri": "https://localhost:8080/"
        }
      },
      "source": [
        "#코드를 작성하시오\n",
        "print(pmean_one_side_test(data, 130, 9, 5, 1))"
      ],
      "execution_count": 165,
      "outputs": [
        {
          "output_type": "stream",
          "text": [
            "평균: 128.4507142857143 표본추출: 14 검정통계량: -1.932298779026813 기각역: 1.6448536269514729\n",
            "귀무가설을 채택한다\n"
          ],
          "name": "stdout"
        }
      ]
    },
    {
      "cell_type": "markdown",
      "metadata": {
        "id": "ykqMMHvRhU8g"
      },
      "source": [
        "- 주어진 'potato.csv' 파일 데이터의 모분산이 9라고 알려져 있음\n",
        "- 유의수준 5%에 대하여 모평균이 130이 아니다 라는 것에 대하의 위의 작성한 함수를 이용하여 검정하시오"
      ]
    },
    {
      "cell_type": "code",
      "metadata": {
        "id": "gjcw6j6-haPb",
        "outputId": "4dad6dbb-eaee-4b8c-b246-e2c9f2eb23c3",
        "colab": {
          "base_uri": "https://localhost:8080/"
        }
      },
      "source": [
        "#코드를 작성하시오\n",
        "print(pmean_pmean_two_side_test(data, 130, 9, 5))"
      ],
      "execution_count": 166,
      "outputs": [
        {
          "output_type": "stream",
          "text": [
            "검정통계량: -1.932298779026813 lcl: -1.959963984540054 ucl: 1.9599639845400545\n",
            "귀무가설을 채택한다\n"
          ],
          "name": "stdout"
        }
      ]
    },
    {
      "cell_type": "markdown",
      "metadata": {
        "id": "YaArqQFshS_t"
      },
      "source": [
        "- 주어진 'potato.csv' 파일 데이터의 모분산이 9라고 알려져 있음\n",
        "- 유의수준 1%에 대하여 모평균이 130보다 작다는 것에 대하의 위의 작성한 함수를 이용하여 검정하시오"
      ]
    },
    {
      "cell_type": "code",
      "metadata": {
        "id": "Q3fAgg_5hzvh",
        "outputId": "0d378eb6-6216-47b0-fe20-b3f9a061991a",
        "colab": {
          "base_uri": "https://localhost:8080/"
        }
      },
      "source": [
        "#코드를 작성하시오\n",
        "print(pmean_one_side_test(data, 130, 9, 1, 0))"
      ],
      "execution_count": 167,
      "outputs": [
        {
          "output_type": "stream",
          "text": [
            "평균: 128.4507142857143 표본추출: 14 검정통계량: -1.932298779026813 기각역: -2.3263478740408408\n",
            "귀무가설을 채택한다\n"
          ],
          "name": "stdout"
        }
      ]
    },
    {
      "cell_type": "markdown",
      "metadata": {
        "id": "k8WSyT_j9hmh"
      },
      "source": [
        "- 주어진 'potato.csv' 파일 데이터의 모분산이 9라고 알려져 있음\n",
        "- 유의수준 1%에 대하여 모평균이 130이 아니다 라는 것에 대하의 위의 작성한 함수를 이용하여 검정하시오"
      ]
    },
    {
      "cell_type": "code",
      "metadata": {
        "id": "kNDHxKbph0nn",
        "outputId": "8a7502b9-066a-472b-9b00-3d03e5eb20a8",
        "colab": {
          "base_uri": "https://localhost:8080/"
        }
      },
      "source": [
        "#코드를 작성하시오\n",
        "print(pmean_pmean_two_side_test(data, 130, 9, 1))"
      ],
      "execution_count": 168,
      "outputs": [
        {
          "output_type": "stream",
          "text": [
            "검정통계량: -1.932298779026813 lcl: -2.5758293035489004 ucl: 2.575829303548901\n",
            "귀무가설을 채택한다\n"
          ],
          "name": "stdout"
        }
      ]
    },
    {
      "cell_type": "markdown",
      "metadata": {
        "id": "5DVuG91Eh3RP"
      },
      "source": [
        "# 모분산을 모르고 있을 때의 모평균을 검정하기 위한 함수를 완성하시오\n",
        "- 단측검정(pmean_one_side_test_samplevar)의 함수를 작성하시오\n",
        "- 양측검정(pmean_two_side_test_samplevar)의 함수를 작성하시오\n",
        "-> 함수의 출력은 \"귀무가설을 채택한다\" 또는 \"귀무가설을 기각한다\"로 출력하시오\n",
        "-> 샘플의 수가 30미만이기 때문에 T 분포를 이용하여 검정하시기 바랍니다 "
      ]
    },
    {
      "cell_type": "code",
      "metadata": {
        "id": "pPgqZ3dOiUlA"
      },
      "source": [
        "#모분산을 모르고 때 모평균의 단측 검정 함수를 T 분포를 이용하여 작성하시오\n",
        "def pmean_one_side_test_samplevar(sample, p_mean, alpha, isBigger):\n",
        "# sample: 모평균을 추정하기 위한 관측 샘플 데이터\n",
        "# p_mean: 샘플 데이터의 모평균\n",
        "# alpha: 유의수준\n",
        "# isBigger: 모평균이 크면 1, 작으면 0을 입력한다 \n",
        "# 출력값은 \"귀무가설을 채택한다\" 또는 \"귀무가설을 기각한다\"로 출력하시오\n",
        "\n",
        "  s_mean = np.mean(sample) #표본평균 \n",
        "  numOfSample = len(sample)\n",
        "\n",
        "  rv = stats.t(df=numOfSample-1) #t분포를 따른다 \n",
        "\n",
        "  #np.std => sample에 대한 표본표준편차 \n",
        "  T = (s_mean - p_mean) / (np.std(sample, ddof=1)/np.sqrt(numOfSample)) #검정통계량\n",
        "  alpha = alpha*0.01\n",
        "\n",
        "  if isBigger == 0:\n",
        "    p_val = rv.isf(1-alpha)\n",
        "    if T < p_val:\n",
        "      answer = \"귀무가설을 기각한다\"\n",
        "    else:\n",
        "      answer = \"귀무가설을 채택한다\"\n",
        "\n",
        "  else:\n",
        "    p_val = rv.isf(alpha)\n",
        "    if T < p_val:\n",
        "      answer = \"귀무가설을 채택한다\"\n",
        "    else:\n",
        "      answer = \"귀무가설을 기각한다\"\n",
        "\n",
        "  print(\"평균:\", s_mean, \"표본추출:\", numOfSample, \"검정통계량:\", T, \"기각역:\", p_val)\n",
        "\n",
        "  return answer"
      ],
      "execution_count": 67,
      "outputs": []
    },
    {
      "cell_type": "code",
      "metadata": {
        "id": "Doqv4LGxixw_"
      },
      "source": [
        "#모분산을 모르고 때 모평균의 단측 검정 함수를 T 분포를 이용하여 작성하시오\n",
        "def pmean_two_side_test_samplevar(sample, p_mean, alpha):\n",
        "# sample: 모평균을 추정하기 위한 관측 샘플 데이터\n",
        "# p_mean: 샘플 데이터의 모평균\n",
        "# alpha: 유의수준\n",
        "# 출력값은 \"귀무가설을 채택한다\" 또는 \"귀무가설을 기각한다\"로 출력하시오\n",
        "\n",
        "  s_mean = np.mean(sample) #표본평균 \n",
        "  numOfSample = len(sample)\n",
        "\n",
        "  rv = stats.t(df=numOfSample-1) #t분포를 따른다 \n",
        "\n",
        "  #np.std => sample에 대한 표본표준편차 \n",
        "  T = (s_mean - p_mean) / (np.std(sample, ddof=1)/np.sqrt(numOfSample)) #검정통계량\n",
        "  alpha = alpha*0.01\n",
        "\n",
        "  lcl = rv.isf(1-alpha*0.5)\n",
        "  ucl = rv.isf(alpha*0.5)\n",
        "\n",
        "  print(\"검정통계량:\", T, \"lcl:\", lcl, \"ucl:\", ucl)\n",
        "\n",
        "  if T < lcl:\n",
        "    answer = \"귀무가설을 기각한다\"\n",
        "  elif T > ucl:\n",
        "    answer = \"귀무가설을 기각한다\"\n",
        "  else:\n",
        "    answer = \"귀무가설을 채택한다\"\n",
        "    \n",
        "  return answer"
      ],
      "execution_count": 93,
      "outputs": []
    },
    {
      "cell_type": "markdown",
      "metadata": {
        "id": "s2tyA3dEi8eb"
      },
      "source": [
        "#위의 함수를 이용하여 다음 문제에 대한 결과를 출력하시오\n",
        "- 주어진 'potato.csv' 파일 데이터의 모평균에 대하여 검정하시오\n",
        "- 유의수준 5%에 대하여 모평균이 130보다 크다는 것에 대하의 위의 작성한 함수를 이용하여 검정하시오"
      ]
    },
    {
      "cell_type": "code",
      "metadata": {
        "id": "kNLT4_yMjLyQ",
        "outputId": "3adfaf9e-484a-40db-d97e-405070a635c8",
        "colab": {
          "base_uri": "https://localhost:8080/"
        }
      },
      "source": [
        "#코드를 작성하시오\n",
        "print(pmean_one_side_test_samplevar(data, 130, 5, 1))"
      ],
      "execution_count": 169,
      "outputs": [
        {
          "output_type": "stream",
          "text": [
            "평균: 128.4507142857143 표본추출: 14 검정통계량: -1.4551960206404198 기각역: 1.7709333959867992\n",
            "귀무가설을 채택한다\n"
          ],
          "name": "stdout"
        }
      ]
    },
    {
      "cell_type": "markdown",
      "metadata": {
        "id": "MXIGQw26jG8x"
      },
      "source": [
        "#위의 함수를 이용하여 다음 문제에 대한 결과를 출력하시오\n",
        "- 주어진 'potato.csv' 파일 데이터의 모평균에 대하여 검정하시오\n",
        "- 유의수준 5%에 대하여 모평균이 130이 아니다 라는 것에 대하의 위의 작성한 함수를 이용하여 검정하시오"
      ]
    },
    {
      "cell_type": "code",
      "metadata": {
        "id": "0z-TbFdtjN80",
        "outputId": "c976693f-6f72-4f75-81da-4a0ac3d63cac",
        "colab": {
          "base_uri": "https://localhost:8080/"
        }
      },
      "source": [
        "#코드를 작성하시오\n",
        "print(pmean_two_side_test_samplevar(data, 130, 5))"
      ],
      "execution_count": 170,
      "outputs": [
        {
          "output_type": "stream",
          "text": [
            "검정통계량: -1.4551960206404198 lcl: -2.1603686564610127 ucl: 2.160368656461013\n",
            "귀무가설을 채택한다\n"
          ],
          "name": "stdout"
        }
      ]
    },
    {
      "cell_type": "markdown",
      "metadata": {
        "id": "PQpWahXVjd0x"
      },
      "source": [
        "# 기말고사 (2번과제 - 모분산의 검정)\n",
        "- 통계적 가설 검정\n",
        "- 주어진 'patato.csv'파일을 읽고 무게에 해당되는 데이터를 읽는다.\n"
      ]
    },
    {
      "cell_type": "markdown",
      "metadata": {
        "id": "H8X-OsLhkAXo"
      },
      "source": [
        "- 모분산 검정을 위한 단측 검정 및 양측 검정 함수를 작성하시오\n",
        "->카이제곱분포를 활용하여 검정하도록 한다\n",
        "->함수의 출력은 \"귀무가설을 채택한다\" 또는 \"귀무가설을 기각한다\"로 출력하시오"
      ]
    },
    {
      "cell_type": "code",
      "metadata": {
        "id": "tgXBuoQikDc8"
      },
      "source": [
        "# 모분산 검정을 위한 단측 검정 함수를 작성하시오\n",
        "def pvar_one_side_test(sample, s_var, alpha, isBigger):\n",
        "# sample: sample data\n",
        "# s_var: 샘플 데이터의 분산\n",
        "# alpha: 유의수준  \n",
        "# isBigger: 모분산이 크면 1, 작으면 0을 입력한다.\n",
        "\n",
        "  numOfSample = len(sample)\n",
        "  rv = stats.chi2(df=numOfSample-1) #카이제곱분포를 따른다 \n",
        "\n",
        "  #np.var => sample에 대한 표본분산 \n",
        "  X = (numOfSample - 1)*np.var(sample, ddof=1) / s_var #검정통계량\n",
        "  alpha = alpha*0.01\n",
        "\n",
        "  if isBigger == 0:\n",
        "    p_val = rv.isf(1-alpha)\n",
        "    if X < p_val:\n",
        "      answer = \"귀무가설을 기각한다\"\n",
        "    else:\n",
        "      answer = \"귀무가설을 채택한다\"\n",
        "\n",
        "  else:\n",
        "    p_val = rv.isf(alpha)\n",
        "    if X < p_val:\n",
        "      answer = \"귀무가설을 채택한다\"\n",
        "    else:\n",
        "      answer = \"귀무가설을 기각한다\"\n",
        "\n",
        "  print(\"검정통계량:\", X, \"기각역:\", p_val)\n",
        "\n",
        "  return answer"
      ],
      "execution_count": 74,
      "outputs": []
    },
    {
      "cell_type": "code",
      "metadata": {
        "id": "70qf9NkwlY6C"
      },
      "source": [
        "# 모분산 검정을 위한 양측 검정 함수를 작성하시오\n",
        "def pvar_two_side_test(sample, s_var, alpha):\n",
        "# sample: sample data\n",
        "# s_var: 샘플 데이터의 분산\n",
        "# alpha: 유의수준  \n",
        "\n",
        "  numOfSample = len(sample)\n",
        "  rv = stats.chi2(df=numOfSample-1) #카이제곱분포를 따른다 \n",
        "\n",
        "  #np.var => sample에 대한 표본분산 \n",
        "  X = (numOfSample - 1)*np.var(sample, ddof=1) / s_var #검정통계량\n",
        "  alpha = alpha*0.01\n",
        "\n",
        "  lcl = rv.isf(1-alpha*0.5)\n",
        "  ucl = rv.isf(alpha*0.5)\n",
        "\n",
        "  print(\"검정통계량:\", X, \"lcl:\", lcl, \"ucl:\", ucl)\n",
        "\n",
        "  if X < lcl:\n",
        "    answer = \"귀무가설을 기각한다\"\n",
        "  elif X > ucl:\n",
        "    answer = \"귀무가설을 기각한다\"\n",
        "  else:\n",
        "    answer = \"귀무가설을 채택한다\"\n",
        "    \n",
        "  return answer"
      ],
      "execution_count": 91,
      "outputs": []
    },
    {
      "cell_type": "markdown",
      "metadata": {
        "id": "gAnpdgPbjzS5"
      },
      "source": [
        "#위의 함수를 이용하여 다음 문제에 대한 결과를 출력하시오\n",
        "- 주어진 'potato.csv' 파일 데이터의 모분산에 대하여 검정하시오\n",
        "- 유의수준 5%에 대하여 모분산이 9보다 크다는 것에 대하의 위의 작성한 함수를 이용하여 검정하시오"
      ]
    },
    {
      "cell_type": "code",
      "metadata": {
        "id": "AFdJg4salrrV",
        "outputId": "05ebb251-6e4d-41ec-e104-261b18a9e650",
        "colab": {
          "base_uri": "https://localhost:8080/"
        }
      },
      "source": [
        "#코드를 입력하시오\n",
        "print(pvar_one_side_test(data, 9, 5, 1))"
      ],
      "execution_count": 171,
      "outputs": [
        {
          "output_type": "stream",
          "text": [
            "검정통계량: 22.921810317460263 기각역: 22.362032494826945\n",
            "귀무가설을 기각한다\n"
          ],
          "name": "stdout"
        }
      ]
    },
    {
      "cell_type": "markdown",
      "metadata": {
        "id": "evYFwwEWjq2x"
      },
      "source": [
        "#위의 함수를 이용하여 다음 문제에 대한 결과를 출력하시오\n",
        "- 주어진 'potato.csv' 파일 데이터의 모분산에 대하여 검정하시오\n",
        "- 유의수준 5%에 대하여 모분산이 9가 아니다라는 것에 대하의 위의 작성한 함수를 이용하여 검정하시오"
      ]
    },
    {
      "cell_type": "code",
      "metadata": {
        "id": "Hq18aYnqmh9D",
        "outputId": "49a321b0-75b2-412e-b8a7-0e948eae06fd",
        "colab": {
          "base_uri": "https://localhost:8080/"
        }
      },
      "source": [
        "#코드를 입력하시오\n",
        "print(pvar_two_side_test(data, 9, 5))"
      ],
      "execution_count": 172,
      "outputs": [
        {
          "output_type": "stream",
          "text": [
            "검정통계량: 22.921810317460263 lcl: 5.008750511810331 ucl: 24.735604884931547\n",
            "귀무가설을 채택한다\n"
          ],
          "name": "stdout"
        }
      ]
    },
    {
      "cell_type": "markdown",
      "metadata": {
        "id": "pWP3wVs8mmLa"
      },
      "source": [
        "# 기말고사 (3번과제 - 쌍체 표본의 추정)\n",
        "- 표본 안에서의 차이에 대하여 살펴보는 것\n",
        "- 한 표본에서 두 개의 측정값을 구하여 비교하는 경우에 해당\n",
        "-> 'training_rel.csv'을 읽은 후 전과 후의 값에 대한 차이에 점추정치를 구하기 위한 함수를 작성하시오\n",
        "-> 95%의 신뢰구간을 구하기 위한 함수를 작성하시오 (T 분포를 이용하여 구하시오)\n"
      ]
    },
    {
      "cell_type": "code",
      "metadata": {
        "colab": {
          "base_uri": "https://localhost:8080/"
        },
        "id": "jaPq0k7BnZCo",
        "outputId": "9eea1594-d67a-4a8b-e418-dd3962a6227b"
      },
      "source": [
        "training_rel = pd.read_csv('training_rel.csv')\n",
        "print(training_rel.shape)"
      ],
      "execution_count": 137,
      "outputs": [
        {
          "output_type": "stream",
          "text": [
            "(20, 2)\n"
          ],
          "name": "stdout"
        }
      ]
    },
    {
      "cell_type": "markdown",
      "metadata": {
        "id": "kOAul7ZZnmlT"
      },
      "source": [
        "# 쌍체 표본의 차이에 대한 점추정치를 구하기 위한 함수를 작성하시오"
      ]
    },
    {
      "cell_type": "code",
      "metadata": {
        "id": "eYQj_HKZnr_f"
      },
      "source": [
        "def d_mean(sample):\n",
        "#sample: 쌍체표본 데이터\n",
        "#출력 값은 점추정치 값을 출력\n",
        "\n",
        "  sample1 = np.array(training_rel['전'])\n",
        "  sample2 = np.array(training_rel['후'])\n",
        "  \n",
        "  numOfSample = len(sample1)\n",
        "\n",
        "  sum = 0\n",
        "  for i in range(numOfSample):\n",
        "    sum += sample2[i] - sample1[i]\n",
        "\n",
        "  D = sum / numOfSample\n",
        "\n",
        "  return D"
      ],
      "execution_count": 158,
      "outputs": []
    },
    {
      "cell_type": "markdown",
      "metadata": {
        "id": "gwoEY8LNn-0o"
      },
      "source": [
        "# 쌍체 표본 데이터에 대한 구간추정을 T 분포를 이용하여 함수를 작성하시오"
      ]
    },
    {
      "cell_type": "code",
      "metadata": {
        "id": "q7lTQ_TvoKN3"
      },
      "source": [
        "def d_mean_interval(sample, alpha):\n",
        "#sample: 쌍체표본 데이터\n",
        "#alpha: 신뢰도\n",
        "#출력 값은 점추정치 값을 출력\n",
        "\n",
        "  numOfSample = len(sample)\n",
        "\n",
        "  rv = stats.t(df=numOfSample-1)\n",
        "  alpha = alpha*0.01\n",
        "\n",
        "  D = d_mean(sample)\n",
        "  range = rv.isf(alpha*0.5) * np.std(sample2-sample1, ddof=1) / np.sqrt(numOfSample)\n",
        "  \n",
        "  if range < 0:\n",
        "    range = - range\n",
        "  \n",
        "  lcl = D - range\n",
        "  ucl = D + range\n",
        "\n",
        "  print(\"D:\", D, \"lcl:\", lcl, \"ucl:\", ucl)\n",
        "\n",
        "  return lcl, ucl"
      ],
      "execution_count": 173,
      "outputs": []
    },
    {
      "cell_type": "markdown",
      "metadata": {
        "id": "_mIW2avyoTSI"
      },
      "source": [
        "주어진 training_rel 데이터에 대한 95% 신뢰도를 가지고 있을 때 구간 추청하시오"
      ]
    },
    {
      "cell_type": "code",
      "metadata": {
        "id": "Rsb9Dxm-obSy",
        "outputId": "0052aded-3429-4298-cb64-811a3f032822",
        "colab": {
          "base_uri": "https://localhost:8080/"
        }
      },
      "source": [
        "#코드를 입력하시오\n",
        "print(d_mean_interval(training_rel, 5))"
      ],
      "execution_count": 174,
      "outputs": [
        {
          "output_type": "stream",
          "text": [
            "D: 5.4 lcl: 0.27225968043224125 ucl: 10.527740319567759\n",
            "(0.27225968043224125, 10.527740319567759)\n"
          ],
          "name": "stdout"
        }
      ]
    }
  ]
}